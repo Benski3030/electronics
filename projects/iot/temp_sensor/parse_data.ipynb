{
 "cells": [
  {
   "cell_type": "code",
   "execution_count": 1,
   "metadata": {},
   "outputs": [],
   "source": [
    "# the libs\n",
    "import pandas as pd\n",
    "import numpy as np\n",
    "import matplotlib.pyplot as plt\n",
    "import seaborn as sns"
   ]
  },
  {
   "cell_type": "code",
   "execution_count": 2,
   "metadata": {},
   "outputs": [],
   "source": [
    "# read in the data from the garage_file.txt with\n",
    "df_raw = pd.read_csv('garage_file.txt', sep=',', header=None)\n",
    "# rename the columns into date and value\n",
    "df_raw.columns = ['date_time', 'sensor_value']\n",
    "# convert the date_time column into datetime format\n",
    "df_raw['date_time'] = pd.to_datetime(df_raw['date_time'])\n",
    "\n",
    "# filter only the numeric value from the sensor_value column using regex\n",
    "df_raw['sensor_value'] = df_raw['sensor_value'].str.extract('(\\d+)')\n",
    "\n",
    "# convert to sensor_value column into numeric\n",
    "df_raw['sensor_value'] = pd.to_numeric(df_raw['sensor_value'])\n",
    "\n",
    "# create a derived column for type base on is the sensor value is below or above the threshold\n",
    "df_raw['d_type'] = df_raw['sensor_value'].apply(lambda x: 'humid' if x > 35 else 'temp')\n",
    "\n",
    "# pivot the dataframe from long to wide based on the d_type column\n",
    "df_pivoted = pd.pivot_table(df_raw, index='date_time', columns='d_type', values='sensor_value')\n",
    "\n",
    "# convert temp column from celcius to fahrenheit\n",
    "df_pivoted['temp'] = df_pivoted['temp'].apply(lambda x: (x * 9 / 5) + 32)\n",
    "\n",
    "# group the dataframe in to 10 minute intervals the mean of the temp and humid columns\n",
    "df_grouped = df_pivoted.groupby(pd.Grouper(freq='H')).mean()\n",
    "\n",
    "# drop the first three hours of data\n",
    "df_grouped = df_grouped.drop(df_grouped.index[:3])"
   ]
  },
  {
   "cell_type": "code",
   "execution_count": 3,
   "metadata": {},
   "outputs": [
    {
     "data": {
      "text/plain": [
       "(array([19205., 19209., 19213., 19217., 19221., 19225., 19229., 19233.,\n",
       "        19236.]),\n",
       " [Text(0, 0, ''),\n",
       "  Text(0, 0, ''),\n",
       "  Text(0, 0, ''),\n",
       "  Text(0, 0, ''),\n",
       "  Text(0, 0, ''),\n",
       "  Text(0, 0, ''),\n",
       "  Text(0, 0, ''),\n",
       "  Text(0, 0, ''),\n",
       "  Text(0, 0, '')])"
      ]
     },
     "execution_count": 3,
     "metadata": {},
     "output_type": "execute_result"
    },
    {
     "data": {
      "image/png": "[encoded data removed]",
      "text/plain": [
       "<Figure size 432x288 with 1 Axes>"
      ]
     },
     "metadata": {
      "needs_background": "light"
     },
     "output_type": "display_data"
    }
   ],
   "source": [
    "# sns line plot of the temp\n",
    "sns.lineplot(x='date_time', y='temp', data=df_grouped)\n",
    "# set the y axis limit at 50\n",
    "#plt.ylim(75, 90)\n",
    "\n",
    "# add a title   \n",
    "plt.title('Temperature Sensor Data')\n",
    "# add a x label\n",
    "plt.xlabel('Date Time')\n",
    "# add a y label\n",
    "plt.ylabel('Temperature (F)')\n",
    "\n",
    "# rotate the x-axis labels by 45 degrees\n",
    "plt.xticks(rotation=75)\n"
   ]
  },
  {
   "cell_type": "code",
   "execution_count": null,
   "metadata": {},
   "outputs": [],
   "source": []
  }
 ],
 "metadata": {
  "kernelspec": {
   "display_name": "Python 3.9.5 ('base')",
   "language": "python",
   "name": "python3"
  },
  "language_info": {
   "codemirror_mode": {
    "name": "ipython",
    "version": 3
   },
   "file_extension": ".py",
   "mimetype": "text/x-python",
   "name": "python",
   "nbconvert_exporter": "python",
   "pygments_lexer": "ipython3",
   "version": "3.9.5"
  },
  "orig_nbformat": 4,
  "vscode": {
   "interpreter": {
    "hash": "810599e85009bc5dbe190f6c2df031695cf98bcfdbf1eb0aea67b857b099afda"
   }
  }
 },
 "nbformat": 4,
 "nbformat_minor": 2
}
